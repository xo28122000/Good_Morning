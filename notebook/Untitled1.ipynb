{
 "cells": [
  {
   "cell_type": "code",
   "execution_count": 1,
   "metadata": {},
   "outputs": [],
   "source": [
    "# Weather check\n",
    "# Bus check\n",
    "# books check\n",
    "# reminders/alerts"
   ]
  },
  {
   "cell_type": "code",
   "execution_count": 3,
   "metadata": {},
   "outputs": [],
   "source": [
    "# using openweathermap\n",
    "from pprint import pprint\n",
    "import requests\n",
    "# api.openweathermap.org/data/2.5/weather?q={city name},{state},{country code}&appid={your api key}\n",
    "# api.openweathermap.org/data/2.5/weather?zip=94040,us&appid={your api key}"
   ]
  },
  {
   "cell_type": "code",
   "execution_count": 125,
   "metadata": {},
   "outputs": [],
   "source": [
    "class Weather:\n",
    "    def __init__(self):\n",
    "        # use your own API keys\n",
    "        f = open(\"./../weatherApiKeys.txt\", \"r\")\n",
    "        self.apikey = f.read().strip()\n",
    "        print(\"->  Getting Weather info...\")\n",
    "        self.req_today_weather = requests.get('http://api.openweathermap.org/data/2.5/weather?zip=94132,us&appid=' + self.apikey).json()\n",
    "        print(\"->  Done!\")\n",
    "        \n",
    "#         extracting and setting other variables\n",
    "        self.temp_min = self.req_today_weather[\"main\"][\"temp_min\"]\n",
    "        self.temp_max = self.req_today_weather[\"main\"][\"temp_max\"]\n",
    "        self.description = self.req_today_weather[\"weather\"][0][\"description\"]\n",
    "        self.visibility = self.req_today_weather[\"visibility\"] * 0.000621371 # in miles\n",
    "        self.wind = self.req_today_weather[\"wind\"][\"speed\"] * 2.23694 # in miles/hr\n",
    "    def isWindy():\n",
    "        if(self.wind > 13):\n",
    "            return 1.0\n",
    "        elif(self.wind > 9 and self.wind <= 13):\n",
    "            return 0.5\n",
    "        else:\n",
    "            return 0\n",
    "        def isFog():\n",
    "            if(selfvisibility =< 7):\n",
    "                return 1\n",
    "            elif(selfvisibility =< 9 and selfvisibility > 7):\n",
    "                return 0.5\n",
    "            else:\n",
    "                return 0\n",
    "    def isCold():\n",
    "        if(self.temp_max < 53 or self.temp_min <53):\n",
    "            return 1\n",
    "        else:\n",
    "            return 0\n",
    "    def getDescription():\n",
    "        return self.description\n",
    "    "
   ]
  },
  {
   "cell_type": "code",
   "execution_count": 110,
   "metadata": {},
   "outputs": [
    {
     "name": "stdout",
     "output_type": "stream",
     "text": [
      "->  Getting Weather info...\n",
      "->  Done!\n"
     ]
    },
    {
     "data": {
      "text/plain": [
       "283.15"
      ]
     },
     "execution_count": 110,
     "metadata": {},
     "output_type": "execute_result"
    }
   ],
   "source": [
    "(Weather().temp_min)"
   ]
  },
  {
   "cell_type": "code",
   "execution_count": 131,
   "metadata": {},
   "outputs": [],
   "source": [
    "# req_forcast_weather = requests.get('http://api.openweathermap.org/data/2.5/forecast?zip=94132,us&appid='+apiKeys)\n",
    "# pprint(req_forcast_weather.json())"
   ]
  },
  {
   "cell_type": "code",
   "execution_count": 127,
   "metadata": {},
   "outputs": [
    {
     "name": "stdout",
     "output_type": "stream",
     "text": [
      "->  Getting Weather info...\n",
      "->  Done!\n"
     ]
    }
   ],
   "source": [
    "f = open(\"./../weatherApiKeys.txt\", \"r\")\n",
    "apikey = f.read().strip()\n",
    "print(\"->  Getting Weather info...\")\n",
    "req_today_weather = requests.get('http://api.openweathermap.org/data/2.5/weather?zip=94132,us&appid=' + apikey).json()\n",
    "\n",
    "print(\"->  Done!\")\n",
    "        \n",
    "#         extracting and setting other variables\n",
    "temp_min = req_today_weather[\"main\"][\"temp_min\"]\n",
    "\n",
    "temp_max = req_today_weather[\"main\"][\"temp_max\"]\n",
    "\n",
    "description = req_today_weather[\"weather\"][0][\"description\"]\n",
    "\n",
    "visibility = req_today_weather[\"visibility\"] * 0.000621371\n",
    "# miles\n",
    "\n",
    "wind = req_today_weather[\"wind\"][\"speed\"] * 2.23694\n",
    "# in miles/hr\n",
    "\n",
    "\n"
   ]
  },
  {
   "cell_type": "code",
   "execution_count": 129,
   "metadata": {},
   "outputs": [
    {
     "data": {
      "text/plain": [
       "'clear sky'"
      ]
     },
     "execution_count": 129,
     "metadata": {},
     "output_type": "execute_result"
    }
   ],
   "source": [
    "description"
   ]
  },
  {
   "cell_type": "code",
   "execution_count": null,
   "metadata": {},
   "outputs": [],
   "source": [
    "def isFog():\n",
    "    if(visibility =< 7):\n",
    "        return 1\n",
    "    elif(visibility =< 9 and visibility > 7):\n",
    "        return 0.5\n",
    "    else:\n",
    "        return 0"
   ]
  },
  {
   "cell_type": "code",
   "execution_count": null,
   "metadata": {},
   "outputs": [],
   "source": []
  },
  {
   "cell_type": "code",
   "execution_count": null,
   "metadata": {},
   "outputs": [],
   "source": []
  }
 ],
 "metadata": {
  "kernelspec": {
   "display_name": "Python 3",
   "language": "python",
   "name": "python3"
  },
  "language_info": {
   "codemirror_mode": {
    "name": "ipython",
    "version": 3
   },
   "file_extension": ".py",
   "mimetype": "text/x-python",
   "name": "python",
   "nbconvert_exporter": "python",
   "pygments_lexer": "ipython3",
   "version": "3.7.4"
  }
 },
 "nbformat": 4,
 "nbformat_minor": 2
}

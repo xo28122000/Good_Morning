{
 "cells": [
  {
   "cell_type": "code",
   "execution_count": 1,
   "metadata": {},
   "outputs": [],
   "source": [
    "# Weather check\n",
    "# Bus check\n",
    "# books check\n",
    "# reminders/alerts"
   ]
  },
  {
   "cell_type": "code",
   "execution_count": 288,
   "metadata": {},
   "outputs": [],
   "source": [
    "from pprint import pprint\n",
    "import requests\n",
    "import re\n",
    "import time\n",
    "from datetime import datetime\n"
   ]
  },
  {
   "cell_type": "code",
   "execution_count": 311,
   "metadata": {},
   "outputs": [],
   "source": [
    "# using openweathermap\n",
    "# api.openweathermap.org/data/2.5/weather?q={city name},{state},{country code}&appid={your api key}\n",
    "# api.openweathermap.org/data/2.5/weather?zip=94040,us&appid={your api key}\n",
    "class Weather:\n",
    "    def __init__(self):\n",
    "        # use your own API keys\n",
    "        self.fetched = False\n",
    "        f = open(\"./../weatherApiKeys.txt\", \"r\")\n",
    "        self.apikey = f.read().strip()\n",
    "        print(\"->  Getting Weather info...\")\n",
    "        self.req_today_weather = requests.get('http://api.openweathermap.org/data/2.5/weather?zip=94132,us&appid=' + self.apikey)\n",
    "        if(self.req_today_weather.status_code == 200):\n",
    "            self.fetched = True\n",
    "            print(\"->  Fetched successfully!\")\n",
    "            self.json_today_weather = self.req_today_weather.json()\n",
    "            #         extracting and setting other variables\n",
    "            self.temp_min = (self.json_today_weather[\"main\"][\"temp_min\"] - 273.15) * 9/5 + 32\n",
    "            self.temp_max = (self.json_today_weather[\"main\"][\"temp_max\"] - 273.15) * 9/5 + 32\n",
    "#             kelvin to F\n",
    "            self.description = self.json_today_weather[\"weather\"][0][\"description\"]\n",
    "            self.visibility = self.json_today_weather[\"visibility\"] * 0.000621371 # in miles\n",
    "            self.wind = self.json_today_weather[\"wind\"][\"speed\"] * 2.23694 # in miles/hr\n",
    "            \n",
    "        else:\n",
    "            print(\"->  Unsuccessful Fetch!\")\n",
    "        \n",
    "        \n",
    "        \n",
    "\n",
    "        \n",
    "    def isFetched(self):\n",
    "        return self.fetched\n",
    "    def isWindy(self):\n",
    "        if(self.wind > 13):\n",
    "            return 1.0\n",
    "        elif(self.wind > 9 and self.wind <= 13):\n",
    "            return 0.5\n",
    "        else:\n",
    "            return 0\n",
    "        def isFog(self):\n",
    "            if(selfvisibility <= 7):\n",
    "                return 1\n",
    "            elif(selfvisibility <= 9 and selfvisibility > 7):\n",
    "                return 0.5\n",
    "            else:\n",
    "                return 0\n",
    "    def isCold(self):\n",
    "        if(self.temp_max < 53 or self.temp_min <53):\n",
    "            return 1\n",
    "        else:\n",
    "            return 0\n",
    "    def getDescription(self):\n",
    "        return self.description\n",
    "    "
   ]
  },
  {
   "cell_type": "code",
   "execution_count": null,
   "metadata": {},
   "outputs": [],
   "source": []
  },
  {
   "cell_type": "code",
   "execution_count": 312,
   "metadata": {},
   "outputs": [],
   "source": [
    "# bus\n",
    "# sf-muni\n",
    "# 57\n",
    "# 4704\n",
    "\n",
    "# list of agencies:\n",
    "# http://webservices.nextbus.com/service/publicXMLFeed?command=agencyList\n",
    "# list of lines:\n",
    "# http://webservices.nextbus.com/service/publicXMLFeed?command=routeList&a=sf-muni\n",
    "# list of stops:\n",
    "# http://webservices.nextbus.com/service/publicXMLFeed?command=routeConfig&a=sf-muni&r=57\n",
    "# predictions at a stop:\n",
    "# http://webservices.nextbus.com/service/publicXMLFeed?command=predictions&a=sf-muni&r=57&s=4704"
   ]
  },
  {
   "cell_type": "code",
   "execution_count": 313,
   "metadata": {},
   "outputs": [],
   "source": [
    "class busSchedule():\n",
    "    def getPrediction(self):\n",
    "        req_BS = requests.get('http://webservices.nextbus.com/service/publicXMLFeed?command=predictions&a=sf-muni&r=57&s=4704')\n",
    "        if(req_BS.status_code == 200):\n",
    "            print(\"->  Fetched Schedule @ \" + str(datetime.now()).split(\" \")[1].split(\".\")[0])\n",
    "            text = req_BS.text\n",
    "            startList = ([m.start() for m in re.finditer('<prediction ', text)])\n",
    "            endList = ([m.start() for m in re.finditer('/>', text)])\n",
    "            predictionList = []\n",
    "            for i in range(len(startList)):\n",
    "                listele = text[startList[i]:endList[i]]\n",
    "                predictionList.append(listele[listele.find(\"minutes\"):listele.find(\"isDeparture\")].strip()[9:-1]) \n",
    "            return(predictionList)\n",
    "        else:\n",
    "            print(\"->  Error occured while fetching Bus prediction\")\n",
    "            return None"
   ]
  },
  {
   "cell_type": "code",
   "execution_count": null,
   "metadata": {
    "scrolled": true
   },
   "outputs": [],
   "source": []
  },
  {
   "cell_type": "code",
   "execution_count": 315,
   "metadata": {},
   "outputs": [],
   "source": [
    "def DAILYSCHEDULE():\n",
    "    weatherToday = Weather()\n",
    "    scheduleToday = busSchedule()\n",
    "    if(weatherToday.isFetched): \n",
    "        print(\"->  Weather today:\")\n",
    "        print(\"->  isWindy: \" + str(weatherToday.isWindy()))\n",
    "        print(\"->  isCold: \" + str(weatherToday.isCold()))\n",
    "        print(\"->  getDescription: \" + str(weatherToday.getDescription()))\n",
    "        print()\n",
    "    while(True):\n",
    "        schedule = scheduleToday.getPrediction()\n",
    "        if(schedule is not None):\n",
    "            print(\"->  Next Buses in: \",end=\"\" )\n",
    "            print(schedule)\n",
    "            print()\n",
    "            time.sleep(60*4)"
   ]
  },
  {
   "cell_type": "code",
   "execution_count": null,
   "metadata": {},
   "outputs": [],
   "source": []
  },
  {
   "cell_type": "code",
   "execution_count": null,
   "metadata": {},
   "outputs": [
    {
     "name": "stdout",
     "output_type": "stream",
     "text": [
      "->  Getting Weather info...\n",
      "->  Fetched successfully!\n",
      "->  Weather today:\n",
      "->  isWindy: 1.0\n",
      "->  isCold: 1\n",
      "->  getDescription: clear sky\n",
      "\n",
      "->  Fetched Schedule @ 23:24:52\n",
      "->  Next Buses in: []\n",
      "\n"
     ]
    }
   ],
   "source": [
    "DAILYSCHEDULE()"
   ]
  },
  {
   "cell_type": "code",
   "execution_count": null,
   "metadata": {},
   "outputs": [],
   "source": []
  }
 ],
 "metadata": {
  "kernelspec": {
   "display_name": "Python 3",
   "language": "python",
   "name": "python3"
  },
  "language_info": {
   "codemirror_mode": {
    "name": "ipython",
    "version": 3
   },
   "file_extension": ".py",
   "mimetype": "text/x-python",
   "name": "python",
   "nbconvert_exporter": "python",
   "pygments_lexer": "ipython3",
   "version": "3.7.4"
  }
 },
 "nbformat": 4,
 "nbformat_minor": 2
}
